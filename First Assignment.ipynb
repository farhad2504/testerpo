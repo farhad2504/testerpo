{
  "metadata": {
    "language_info": {
      "codemirror_mode": {
        "name": "python",
        "version": 3
      },
      "file_extension": ".py",
      "mimetype": "text/x-python",
      "name": "python",
      "nbconvert_exporter": "python",
      "pygments_lexer": "ipython3",
      "version": "3.8"
    },
    "kernelspec": {
      "name": "python",
      "display_name": "Pyolite",
      "language": "python"
    }
  },
  "nbformat_minor": 4,
  "nbformat": 4,
  "cells": [
    {
      "cell_type": "markdown",
      "source": "<h1>My Jupyter Notebook on  IBM Watson Studio<h1>",
      "metadata": {}
    },
    {
      "cell_type": "markdown",
      "source": "__Farhad Asadov__",
      "metadata": {}
    },
    {
      "cell_type": "markdown",
      "source": "Risk Manager",
      "metadata": {}
    },
    {
      "cell_type": "markdown",
      "source": "_I am interested in  data science because I would like to open new horizons for myself_",
      "metadata": {}
    },
    {
      "cell_type": "markdown",
      "source": "<h3> My code is supposed to multiply 6 by 5<h3>",
      "metadata": {}
    },
    {
      "cell_type": "code",
      "source": "print(6*5)",
      "metadata": {
        "trusted": true
      },
      "execution_count": 3,
      "outputs": [
        {
          "name": "stdout",
          "text": "30\n",
          "output_type": "stream"
        }
      ]
    },
    {
      "cell_type": "markdown",
      "source": "|Markdown| |Less| |Pretty|\n| ------ | | ---| | -----|\n|The wesbite| |<a href=\"https://dataplatform.cloud.ibm.com/gallery\">IBM Cloud Gallery</a> | is ~~good~~|",
      "metadata": {}
    }
  ]
}